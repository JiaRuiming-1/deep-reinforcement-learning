{
 "cells": [
  {
   "cell_type": "markdown",
   "metadata": {},
   "source": [
    "# Navigation\n",
    "\n",
    "---\n",
    "\n",
    "In this notebook, you will learn how to use the Unity ML-Agents environment for the first project of the [Deep Reinforcement Learning Nanodegree](https://www.udacity.com/course/deep-reinforcement-learning-nanodegree--nd893).\n",
    "\n",
    "### 1. Start the Environment\n",
    "\n",
    "We begin by importing some necessary packages.  If the code cell below returns an error, please revisit the project instructions to double-check that you have installed [Unity ML-Agents](https://github.com/Unity-Technologies/ml-agents/blob/master/docs/Installation.md) and [NumPy](http://www.numpy.org/)."
   ]
  },
  {
   "cell_type": "code",
   "execution_count": 2,
   "metadata": {},
   "outputs": [],
   "source": [
    "# from mlagents_envs.environment import UnityEnvironment\n",
    "!pip -q install ./python\n",
    "from unityagents import UnityEnvironment\n",
    "import numpy as np"
   ]
  },
  {
   "cell_type": "markdown",
   "metadata": {},
   "source": [
    "Next, we will start the environment!  **_Before running the code cell below_**, change the `file_name` parameter to match the location of the Unity environment that you downloaded.\n",
    "\n",
    "- **Mac**: `\"path/to/Banana.app\"`\n",
    "- **Windows** (x86): `\"path/to/Banana_Windows_x86/Banana.exe\"`\n",
    "- **Windows** (x86_64): `\"path/to/Banana_Windows_x86_64/Banana.exe\"`\n",
    "- **Linux** (x86): `\"path/to/Banana_Linux/Banana.x86\"`\n",
    "- **Linux** (x86_64): `\"path/to/Banana_Linux/Banana.x86_64\"`\n",
    "- **Linux** (x86, headless): `\"path/to/Banana_Linux_NoVis/Banana.x86\"`\n",
    "- **Linux** (x86_64, headless): `\"path/to/Banana_Linux_NoVis/Banana.x86_64\"`\n",
    "\n",
    "For instance, if you are using a Mac, then you downloaded `Banana.app`.  If this file is in the same folder as the notebook, then the line below should appear as follows:\n",
    "```\n",
    "env = UnityEnvironment(file_name=\"Banana.app\")\n",
    "```"
   ]
  },
  {
   "cell_type": "code",
   "execution_count": 3,
   "metadata": {},
   "outputs": [
    {
     "name": "stderr",
     "output_type": "stream",
     "text": [
      "INFO:unityagents:\n",
      "'Academy' started successfully!\n",
      "Unity Academy name: Academy\n",
      "        Number of Brains: 1\n",
      "        Number of External Brains : 1\n",
      "        Lesson number : 0\n",
      "        Reset Parameters :\n",
      "\t\t\n",
      "Unity brain name: BananaBrain\n",
      "        Number of Visual Observations (per agent): 0\n",
      "        Vector Observation space type: continuous\n",
      "        Vector Observation space size (per agent): 37\n",
      "        Number of stacked Vector Observation: 1\n",
      "        Vector Action space type: discrete\n",
      "        Vector Action space size (per agent): 4\n",
      "        Vector Action descriptions: , , , \n"
     ]
    }
   ],
   "source": [
    "env = UnityEnvironment(file_name=\"/data/Banana_Linux_NoVis/Banana.x86_64\", worker_id=2, seed=1)"
   ]
  },
  {
   "cell_type": "markdown",
   "metadata": {},
   "source": [
    "Environments contain **_brains_** which are responsible for deciding the actions of their associated agents. Here we check for the first brain available, and set it as the default brain we will be controlling from Python."
   ]
  },
  {
   "cell_type": "code",
   "execution_count": 4,
   "metadata": {},
   "outputs": [
    {
     "name": "stdout",
     "output_type": "stream",
     "text": [
      "<class 'unityagents.environment.UnityEnvironment'>\n"
     ]
    }
   ],
   "source": [
    "# get the default brain\n",
    "brain_name = env.brain_names[0]\n",
    "brain = env.brains[brain_name]\n",
    "print(type(env))"
   ]
  },
  {
   "cell_type": "markdown",
   "metadata": {},
   "source": [
    "### 2. Examine the State and Action Spaces\n",
    "\n",
    "The simulation contains a single agent that navigates a large environment.  At each time step, it has four actions at its disposal:\n",
    "- `0` - walk forward \n",
    "- `1` - walk backward\n",
    "- `2` - turn left\n",
    "- `3` - turn right\n",
    "\n",
    "The state space has `37` dimensions and contains the agent's velocity, along with ray-based perception of objects around agent's forward direction.  A reward of `+1` is provided for collecting a yellow banana, and a reward of `-1` is provided for collecting a blue banana. \n",
    "\n",
    "Run the code cell below to print some information about the environment."
   ]
  },
  {
   "cell_type": "code",
   "execution_count": 5,
   "metadata": {},
   "outputs": [
    {
     "name": "stdout",
     "output_type": "stream",
     "text": [
      "Number of agents: 1\n",
      "Number of actions: 4\n",
      "States look like: [ 0.          1.          0.          0.          0.27946243  0.          1.\n",
      "  0.          0.          0.74556106  0.          0.          1.          0.\n",
      "  0.48277503  0.          1.          0.          0.          0.30341193\n",
      "  0.          0.          1.          0.          0.46494457  0.          0.\n",
      "  1.          0.          0.08466676  0.          1.          0.          0.\n",
      "  0.95967758  0.          0.        ]\n",
      "States have length: 37\n"
     ]
    }
   ],
   "source": [
    "# reset the environment\n",
    "env_info = env.reset(train_mode=True)[brain_name]\n",
    "# print(env.step(1)[brain_name].vector_observations[0])\n",
    "# number of agents in the environment\n",
    "print('Number of agents:', len(env_info.agents))\n",
    "\n",
    "# number of actions\n",
    "action_size = brain.vector_action_space_size\n",
    "print('Number of actions:', action_size)\n",
    "\n",
    "# examine the state space \n",
    "state = env_info.vector_observations[0]\n",
    "print('States look like:', state)\n",
    "state_size = len(state)\n",
    "print('States have length:', state_size)"
   ]
  },
  {
   "cell_type": "markdown",
   "metadata": {},
   "source": [
    "### 3. Take Random Actions in the Environment\n",
    "\n",
    "In the next code cell, you will learn how to use the Python API to control the agent and receive feedback from the environment.\n",
    "\n",
    "Once this cell is executed, you will watch the agent's performance, if it selects an action (uniformly) at random with each time step.  A window should pop up that allows you to observe the agent, as it moves through the environment.  \n",
    "\n",
    "Of course, as part of the project, you'll have to change the code so that the agent is able to use its experience to gradually choose better actions when interacting with the environment!"
   ]
  },
  {
   "cell_type": "code",
   "execution_count": 6,
   "metadata": {},
   "outputs": [
    {
     "name": "stdout",
     "output_type": "stream",
     "text": [
      "Score: 0.0\n"
     ]
    }
   ],
   "source": [
    "env_info = env.reset(train_mode=False)[brain_name] # reset the environment\n",
    "state = env_info.vector_observations[0]            # get the current state\n",
    "score = 0                                          # initialize the score\n",
    "while True:\n",
    "    action = np.random.randint(action_size)        # select an action\n",
    "    env_info = env.step(action)[brain_name]        # send the action to the environment\n",
    "    next_state = env_info.vector_observations[0]   # get the next state\n",
    "    reward = env_info.rewards[0]                   # get the reward\n",
    "    done = env_info.local_done[0]                  # see if episode has finished\n",
    "    score += reward                                # update the score\n",
    "    state = next_state                             # roll over the state to next time step\n",
    "    if done:                                       # exit loop if episode finished\n",
    "        break\n",
    "    \n",
    "print(\"Score: {}\".format(score))"
   ]
  },
  {
   "cell_type": "markdown",
   "metadata": {},
   "source": [
    "below is my code reference :[how to implement rainbow method](https://github.com/Curt-Park/rainbow-is-all-you-need)."
   ]
  },
  {
   "cell_type": "code",
   "execution_count": 6,
   "metadata": {},
   "outputs": [],
   "source": [
    "from typing import Dict, List, Tuple\n",
    "\n",
    "import matplotlib.pyplot as plt\n",
    "import numpy as np\n",
    "import random\n",
    "import torch\n",
    "import torch.optim as optim\n",
    "from IPython.display import clear_output\n",
    "from torch.nn.utils import clip_grad_norm_\n",
    "\n",
    "import rainbow_agent"
   ]
  },
  {
   "cell_type": "code",
   "execution_count": 7,
   "metadata": {},
   "outputs": [
    {
     "name": "stdout",
     "output_type": "stream",
     "text": [
      "cuda\n"
     ]
    }
   ],
   "source": [
    "seed = 1\n",
    "\n",
    "def seed_torch(seed):\n",
    "    torch.manual_seed(seed)\n",
    "    if torch.backends.cudnn.enabled:\n",
    "        torch.backends.cudnn.benchmark = False\n",
    "        torch.backends.cudnn.deterministic = True\n",
    "\n",
    "np.random.seed(seed)\n",
    "random.seed(seed)\n",
    "seed_torch(seed)\n",
    "##env.seed(seed)\n",
    "\n",
    "# parameters\n",
    "\n",
    "memory_size = int(1e5)\n",
    "batch_size = 128\n",
    "target_update = 32\n",
    "agent = rainbow_agent.DQNAgent(env, memory_size, batch_size, target_update)"
   ]
  },
  {
   "cell_type": "markdown",
   "metadata": {},
   "source": [
    "### 4. Try rainbow method to train agent\n",
    " the rainbow_model.py is all AI model that we need \n",
    " \n",
    " the rainbow_replaybuffer.py is stored experience of agent\n",
    " \n",
    " the rainbow_agent.py use to define rainbow agent\n",
    " \n",
    " (note that I remove backforward action to animate like human vision and reward 0.02 to forward action in order to make agent explore fast. In addition, I judge location after 10 actions avoid agent don't move. When agent don't move, it recieve -0.1 reward)\n",
    " "
   ]
  },
  {
   "cell_type": "code",
   "execution_count": 8,
   "metadata": {},
   "outputs": [],
   "source": [
    "def train(num_frames: int, plotting_interval: int = 300):\n",
    "    \"\"\"Train the agent.\"\"\"\n",
    "    agent.is_train = True\n",
    "    env_info = agent.env.reset(train_mode=agent.is_train)[agent.brain_name]\n",
    "    state = env_info.vector_observations[0]\n",
    "\n",
    "    update_cnt = 0\n",
    "    losses = []\n",
    "    scores = []\n",
    "    score = 0\n",
    "    actions = []\n",
    "\n",
    "    for frame_idx in range(1, num_frames + 1):\n",
    "        action = np.array([agent.select_action(state)])\n",
    "        #print(agent.env.step(action)[agent.brain_name])\n",
    "        next_state, reward, done = agent.step(action)  # send the action to the environment\n",
    "        \n",
    "        if action == 0:\n",
    "            reward += 0.002\n",
    "        if agent.actions_lr == True:\n",
    "            reward -= 0.1\n",
    "        \n",
    "        \n",
    "        state = next_state\n",
    "        score += reward\n",
    "\n",
    "        # NoisyNet: removed decrease of epsilon\n",
    "\n",
    "        # PER: increase beta\n",
    "        fraction = min(frame_idx / num_frames, 1.0)\n",
    "        agent.beta = agent.beta + fraction * (1.0 - agent.beta)\n",
    "        # print('\\rEpisode {} \\t Score'.format(frame_idx, score), end=\"\")\n",
    "        # if episode ends\n",
    "        if done:\n",
    "            ##state = agent.env.reset()\n",
    "            env_info = agent.env.reset(train_mode=agent.is_train)[agent.brain_name]\n",
    "            state = env_info.vector_observations[0]\n",
    "            scores.append(score)\n",
    "            score = 0\n",
    "\n",
    "        # if training is ready\n",
    "        if len(agent.memory) >= 4 * batch_size:\n",
    "            loss = agent.update_model()\n",
    "            losses.append(loss)\n",
    "            update_cnt += 1\n",
    "\n",
    "            # if hard update is needed\n",
    "            if update_cnt % agent.target_update == 0:\n",
    "                agent._target_hard_update()\n",
    "        \n",
    "        # plotting\n",
    "        if frame_idx % plotting_interval == 0:\n",
    "            \"\"\"Plot the training progresses.\"\"\"\n",
    "            clear_output(True)\n",
    "            plt.figure(figsize=(20, 5))\n",
    "            plt.subplot(131)\n",
    "            plt.title('frame %s. score: %s' % (frame_idx, np.mean(scores[-6:])))\n",
    "            plt.plot(scores)\n",
    "            plt.subplot(132)\n",
    "            plt.title('loss')\n",
    "            plt.plot(losses)\n",
    "            plt.show()\n",
    "            print('\\rEpisode {}\\tLast Score: {:.2f}'.format(frame_idx, scores[-1]), end=\"\")\n"
   ]
  },
  {
   "cell_type": "code",
   "execution_count": 9,
   "metadata": {},
   "outputs": [
    {
     "data": {
      "image/png": "[encoded data removed]",
      "text/plain": [
       "<matplotlib.figure.Figure at 0x7ff1c0578630>"
      ]
     },
     "metadata": {
      "needs_background": "light"
     },
     "output_type": "display_data"
    },
    {
     "name": "stdout",
     "output_type": "stream",
     "text": [
      "\r",
      "Episode 60000\tLast Score: 13.44"
     ]
    }
   ],
   "source": [
    "train(45000)"
   ]
  },
  {
   "cell_type": "markdown",
   "metadata": {},
   "source": [
    "### Save model"
   ]
  },
  {
   "cell_type": "code",
   "execution_count": 10,
   "metadata": {},
   "outputs": [
    {
     "data": {
      "text/plain": [
       "'\\n# pick device\\ntorch.load(\\'xxx.pkl\\', map_location=\\'cpu\\')\\ntorch.load(\\'gen_500000.pkl\\', map_location=lambda storage, loc: storage.cuda(1))\\n# - or -\\nmodel.load_state_dict(torch.load(PATH, map_location=\"cuda:0\"))\\n\\nmore detail: https://blog.csdn.net/weixin_40522801/article/details/106563354\\n'"
      ]
     },
     "execution_count": 10,
     "metadata": {},
     "output_type": "execute_result"
    }
   ],
   "source": [
    "torch.save({\n",
    "            'model_state_dict': agent.dqn.state_dict(),\n",
    "            'optimizer_state_dict': agent.optimizer.state_dict(),\n",
    "            }, 'checkpoint_fast.pth')\n",
    "\n",
    "# load model\n",
    "'''\n",
    "model = TheModelClass(*args, **kwargs)\n",
    "optimizer = TheOptimizerClass(*args, **kwargs)\n",
    " \n",
    "checkpoint = torch.load(PATH) @pick device\n",
    "model.load_state_dict(checkpoint['model_state_dict'])\n",
    "optimizer.load_state_dict(checkpoint['optimizer_state_dict'])\n",
    "epoch = checkpoint['epoch']\n",
    "loss = checkpoint['loss']\n",
    "\n",
    "model.eval()\n",
    "# - or -\n",
    "# model.train()\n",
    "'''\n",
    "'''\n",
    "# pick device\n",
    "torch.load('xxx.pkl', map_location='cpu')\n",
    "torch.load('gen_500000.pkl', map_location=lambda storage, loc: storage.cuda(1))\n",
    "# - or -\n",
    "model.load_state_dict(torch.load(PATH, map_location=\"cuda:0\"))\n",
    "\n",
    "more detail: https://blog.csdn.net/weixin_40522801/article/details/106563354\n",
    "'''"
   ]
  },
  {
   "cell_type": "markdown",
   "metadata": {},
   "source": [
    "### 4. Test and watch agent"
   ]
  },
  {
   "cell_type": "code",
   "execution_count": 11,
   "metadata": {},
   "outputs": [
    {
     "name": "stdout",
     "output_type": "stream",
     "text": [
      "cuda\n",
      "score: 16.0, step:0\n"
     ]
    }
   ],
   "source": [
    "\"\"\"load model.\"\"\"\n",
    "batch_size = 128\n",
    "target_update = 32\n",
    "new_agent = rainbow_agent.DQNAgent(env, memory_size, batch_size, target_update)\n",
    "checkpoint = torch.load('checkpoint_fast.pth')\n",
    "new_agent.dqn.load_state_dict(checkpoint['model_state_dict'])\n",
    "new_agent.optimizer.load_state_dict(checkpoint['optimizer_state_dict'])\n",
    "\n",
    "\"\"\"Test the agent.\"\"\"\n",
    "new_agent.is_train = False\n",
    "\n",
    "env_info = new_agent.env.reset(train_mode=new_agent.is_train)[new_agent.brain_name]\n",
    "state = env_info.vector_observations[0]\n",
    "\n",
    "done = False\n",
    "score = 0\n",
    "step_count = 0\n",
    "\n",
    "while not done:\n",
    "    action = np.array([new_agent.select_action(state)])\n",
    "    #print(agent.env.step(action)[agent.brain_name])\n",
    "    next_state, reward, done = new_agent.step(action)  # send the action to the environment\n",
    "    \n",
    "    state = next_state\n",
    "    score += reward\n",
    "\n",
    "print(f\"score: {score}, step:{step_count}\")"
   ]
  },
  {
   "cell_type": "code",
   "execution_count": 12,
   "metadata": {},
   "outputs": [],
   "source": [
    "env.close()"
   ]
  },
  {
   "cell_type": "code",
   "execution_count": null,
   "metadata": {},
   "outputs": [],
   "source": []
  }
 ],
 "metadata": {
  "kernelspec": {
   "display_name": "Python 3 (ipykernel)",
   "language": "python",
   "name": "python3"
  },
  "language_info": {
   "codemirror_mode": {
    "name": "ipython",
    "version": 3
   },
   "file_extension": ".py",
   "mimetype": "text/x-python",
   "name": "python",
   "nbconvert_exporter": "python",
   "pygments_lexer": "ipython3",
   "version": "3.6.2"
  }
 },
 "nbformat": 4,
 "nbformat_minor": 2
}
