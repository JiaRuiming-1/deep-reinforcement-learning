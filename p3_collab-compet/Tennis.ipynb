{
 "cells": [
  {
   "cell_type": "markdown",
   "metadata": {},
   "source": [
    "# Collaboration and Competition\n",
    "\n",
    "---\n",
    "\n",
    "In this notebook, you will learn how to use the Unity ML-Agents environment for the third project of the [Deep Reinforcement Learning Nanodegree](https://www.udacity.com/course/deep-reinforcement-learning-nanodegree--nd893) program.\n",
    "\n",
    "### 1. Start the Environment\n",
    "\n",
    "We begin by importing the necessary packages.  If the code cell below returns an error, please revisit the project instructions to double-check that you have installed [Unity ML-Agents](https://github.com/Unity-Technologies/ml-agents/blob/master/docs/Installation.md) and [NumPy](http://www.numpy.org/)."
   ]
  },
  {
   "cell_type": "code",
   "execution_count": 1,
   "metadata": {},
   "outputs": [],
   "source": [
    "# !pip install ./python\n",
    "# !pip install progressbar\n",
    "from unityagents import UnityEnvironment\n",
    "import numpy as np"
   ]
  },
  {
   "cell_type": "markdown",
   "metadata": {},
   "source": [
    "Next, we will start the environment!  **_Before running the code cell below_**, change the `file_name` parameter to match the location of the Unity environment that you downloaded.\n",
    "\n",
    "- **Mac**: `\"path/to/Tennis.app\"`\n",
    "- **Windows** (x86): `\"path/to/Tennis_Windows_x86/Tennis.exe\"`\n",
    "- **Windows** (x86_64): `\"path/to/Tennis_Windows_x86_64/Tennis.exe\"`\n",
    "- **Linux** (x86): `\"path/to/Tennis_Linux/Tennis.x86\"`\n",
    "- **Linux** (x86_64): `\"path/to/Tennis_Linux/Tennis.x86_64\"`\n",
    "- **Linux** (x86, headless): `\"path/to/Tennis_Linux_NoVis/Tennis.x86\"`\n",
    "- **Linux** (x86_64, headless): `\"path/to/Tennis_Linux_NoVis/Tennis.x86_64\"`\n",
    "\n",
    "For instance, if you are using a Mac, then you downloaded `Tennis.app`.  If this file is in the same folder as the notebook, then the line below should appear as follows:\n",
    "```\n",
    "env = UnityEnvironment(file_name=\"Tennis.app\")\n",
    "```"
   ]
  },
  {
   "cell_type": "code",
   "execution_count": 2,
   "metadata": {},
   "outputs": [
    {
     "name": "stderr",
     "output_type": "stream",
     "text": [
      "INFO:unityagents:\n",
      "'Academy' started successfully!\n",
      "Unity Academy name: Academy\n",
      "        Number of Brains: 1\n",
      "        Number of External Brains : 1\n",
      "        Lesson number : 0\n",
      "        Reset Parameters :\n",
      "\t\t\n",
      "Unity brain name: TennisBrain\n",
      "        Number of Visual Observations (per agent): 0\n",
      "        Vector Observation space type: continuous\n",
      "        Vector Observation space size (per agent): 8\n",
      "        Number of stacked Vector Observation: 3\n",
      "        Vector Action space type: continuous\n",
      "        Vector Action space size (per agent): 2\n",
      "        Vector Action descriptions: , \n"
     ]
    }
   ],
   "source": [
    "# for local environment\n",
    "env = UnityEnvironment(file_name=\"Tennis.app\")\n",
    "\n",
    "## for udacity workspace\n",
    "# env = UnityEnvironment(file_name=\"/data/Tennis_Linux_NoVis/Tennis\")"
   ]
  },
  {
   "cell_type": "markdown",
   "metadata": {},
   "source": [
    "Environments contain **_brains_** which are responsible for deciding the actions of their associated agents. Here we check for the first brain available, and set it as the default brain we will be controlling from Python."
   ]
  },
  {
   "cell_type": "code",
   "execution_count": 3,
   "metadata": {},
   "outputs": [],
   "source": [
    "# get the default brain\n",
    "brain_name = env.brain_names[0]\n",
    "brain = env.brains[brain_name]"
   ]
  },
  {
   "cell_type": "markdown",
   "metadata": {},
   "source": [
    "### 2. Examine the State and Action Spaces\n",
    "\n",
    "In this environment, two agents control rackets to bounce a ball over a net. If an agent hits the ball over the net, it receives a reward of +0.1.  If an agent lets a ball hit the ground or hits the ball out of bounds, it receives a reward of -0.01.  Thus, the goal of each agent is to keep the ball in play.\n",
    "\n",
    "The observation space consists of 8 variables corresponding to the position and velocity of the ball and racket. Two continuous actions are available, corresponding to movement toward (or away from) the net, and jumping. \n",
    "\n",
    "Run the code cell below to print some information about the environment."
   ]
  },
  {
   "cell_type": "code",
   "execution_count": 4,
   "metadata": {},
   "outputs": [
    {
     "name": "stdout",
     "output_type": "stream",
     "text": [
      "Number of agents: 2\n",
      "Size of each action: 2\n",
      "There are 2 agents. Each observes a state with length: 24\n",
      "The state for the first agent looks like: [ 0.          0.          0.          0.          0.          0.\n",
      "  0.          0.          0.          0.          0.          0.\n",
      "  0.          0.          0.          0.         -6.65278625 -1.5\n",
      " -0.          0.          6.83172083  6.         -0.          0.        ]\n"
     ]
    }
   ],
   "source": [
    "# reset the environment\n",
    "env_info = env.reset(train_mode=True)[brain_name]\n",
    "\n",
    "# number of agents \n",
    "num_agents = len(env_info.agents)\n",
    "print('Number of agents:', num_agents)\n",
    "\n",
    "# size of each action\n",
    "action_size = brain.vector_action_space_size\n",
    "print('Size of each action:', action_size)\n",
    "\n",
    "# examine the state space \n",
    "states = env_info.vector_observations\n",
    "state_size = states.shape[1]\n",
    "print('There are {} agents. Each observes a state with length: {}'.format(states.shape[0], state_size))\n",
    "print('The state for the first agent looks like:', states[0])"
   ]
  },
  {
   "cell_type": "markdown",
   "metadata": {},
   "source": [
    "### 3. Train Multi-Agent!\n",
    "\n",
    "Now it's your turn to train your own agent to solve the environment!  A few **important notes**:\n",
    "- When training the environment, set `train_mode=True`, so that the line for resetting the environment looks like the following:\n",
    "```python\n",
    "env_info = env.reset(train_mode=True)[brain_name]\n",
    "```"
   ]
  },
  {
   "cell_type": "code",
   "execution_count": 5,
   "metadata": {},
   "outputs": [],
   "source": [
    "from collections import deque\n",
    "import matplotlib.pyplot as plt\n",
    "from IPython.display import clear_output\n",
    "import time\n",
    "import numpy as np\n",
    "import progressbar as pb\n",
    "from maddpg_agent import Agent\n",
    "\n",
    "\n",
    "SOLVED_SCORE = 0.5\n",
    "PRINT_EVERY = 10\n",
    "PLOT_EVERY = 100\n",
    "EPS_DECAY = 0.996\n",
    "ADD_NOISE = True\n",
    "\n",
    "ACTOR_LOSS = []\n",
    "CRITIC_LOSS = []\n",
    "SCORES_WINDOW = deque(maxlen=100)\n",
    "SCORE_ALL = []\n",
    "MOVING_AVERAGE = []\n",
    "BEST_SCORE = -np.inf\n",
    "BEST_EPISODE = 0\n",
    "\n",
    "agent = Agent(state_size, action_size, num_agents, random_seed=0)"
   ]
  },
  {
   "cell_type": "code",
   "execution_count": 13,
   "metadata": {},
   "outputs": [
    {
     "data": {
      "image/png": "[encoded data removed]",
      "text/plain": [
       "<Figure size 1440x360 with 3 Axes>"
      ]
     },
     "metadata": {
      "needs_background": "light"
     },
     "output_type": "display_data"
    },
    {
     "name": "stdout",
     "output_type": "stream",
     "text": [
      "\r",
      "Epi-Steps 50/247 \tReward: [0.60000001 0.59000001]\tActor Loss:-0.059109\t Critic Loss:0.000055\t EPS:0.1000\r",
      "Episodes 0040-0050\tMax Reward: 2.700\tMoving Average: 247.000\t Step Num:1.0755000160448254\n"
     ]
    }
   ],
   "source": [
    "N_EPISODES = 50  # if restart train recommand set 1000\n",
    "BATCH_SIZE = 512\n",
    "PRINT_EVERY = 10\n",
    "already_solved = True  # if restart train set False\n",
    "\n",
    "for i_episode in range(1, N_EPISODES + 1):\n",
    "    env_info = env.reset(train_mode=True)[brain_name]  # reset the environment\n",
    "    states = env_info.vector_observations\n",
    "    scores = np.zeros(num_agents)\n",
    "    steps = 0\n",
    "    # agent.reset(EPS_DECAY)\n",
    "    while True:  # 1 episde for test\n",
    "        actions = agent.act(states, ADD_NOISE)\n",
    "        env_info = env.step(actions)[brain_name]  # send both agents' actions to the environment\n",
    "        # next_states = np.reshape(env_info.vector_observations, (1, num_agents*state_size)) # flatten next states\n",
    "        next_states = env_info.vector_observations\n",
    "        rewards = env_info.rewards  # get rewards\n",
    "        done = env_info.local_done  # see if the episode finished\n",
    "\n",
    "        # perform the trainning step\n",
    "        agent.step(states, actions, rewards, next_states, done)\n",
    "\n",
    "        scores += rewards  # update scores with best reward\n",
    "        steps += 1\n",
    "        states = next_states  # roll over states to next time step\n",
    "        if np.any(done):  # exit loop if episode finished\n",
    "            break\n",
    "\n",
    "    ep_max_score = np.max(scores)\n",
    "    SCORES_WINDOW.append(ep_max_score)\n",
    "    SCORE_ALL.append(ep_max_score)\n",
    "    MOVING_AVERAGE.append(np.mean(SCORES_WINDOW))\n",
    "    ACTOR_LOSS.append(np.mean(agent.actor_loss_list))\n",
    "    CRITIC_LOSS.append(np.mean(agent.critic_loss_list))\n",
    "\n",
    "    if i_episode % PLOT_EVERY == 0:\n",
    "        clear_output(True)\n",
    "        plt.figure(figsize=(20, 5))\n",
    "        plt.subplot(131)\n",
    "        plt.title('episode %s. 100 steps avg-score: %s' % (i_episode, MOVING_AVERAGE[-1]))\n",
    "        plt.plot(SCORE_ALL, label='scores_all')\n",
    "        plt.plot(MOVING_AVERAGE, label='average_100')\n",
    "        plt.legend()\n",
    "        plt.subplot(132)\n",
    "        plt.title('average agents actor loss')\n",
    "        plt.plot(ACTOR_LOSS)\n",
    "        plt.subplot(133)\n",
    "        plt.title('average agents critic loss')\n",
    "        plt.plot(CRITIC_LOSS)\n",
    "        plt.show()\n",
    "\n",
    "    print('\\rEpi-Steps {}/{} \\tReward: {}\\tActor Loss:{:.6f}\\t Critic Loss:{:.6f}\\t EPS:{:.4f}'.format(\n",
    "        i_episode, steps, scores, np.mean(agent.actor_loss_list), np.mean(agent.critic_loss_list), agent.eps), end='')\n",
    "\n",
    "    # print results\n",
    "    if i_episode % PRINT_EVERY == 0:\n",
    "        print('\\rEpisodes {:0>4d}-{:0>4d}\\tMax Reward: {:.3f}\\tMoving Average: {:.3f}\\t Step Num:{}'\n",
    "              .format(i_episode - PRINT_EVERY, i_episode, np.max(SCORE_ALL[-PRINT_EVERY:]), MOVING_AVERAGE[-1], steps))\n",
    "            \n",
    "    # save better model\n",
    "    if ep_max_score > BEST_SCORE and len(agent.memory) >= BATCH_SIZE:\n",
    "        BEST_EPISODE = i_episode\n",
    "        BEST_SCORE = ep_max_score\n",
    "        print('\\r<-- Best episode so far! \\nEpisode {:0>4d}\\tMax Reward: {:.3f}\\tMoving Average: {:.3f}\\t Step Num:{}'\n",
    "              .format(i_episode, BEST_SCORE, MOVING_AVERAGE[-1], steps))\n",
    "        agent.save_model()\n",
    "\n",
    "    # determine if environment is solved and save best performing models\n",
    "    if MOVING_AVERAGE[-1] >= SOLVED_SCORE and len(agent.memory) >= BATCH_SIZE:\n",
    "        if not already_solved:\n",
    "            print('\\r<-- Environment solved in {:d} episodes! \\\n",
    "                \\n<-- Moving Average: {:.3f} over past {:d} episodes'.format(\n",
    "                i_episode - 100, MOVING_AVERAGE[-1], 100))\n",
    "            already_solved = True\n",
    "            agent.save_model()\n",
    "            break"
   ]
  },
  {
   "cell_type": "markdown",
   "metadata": {},
   "source": [
    "### 4. Take Random Actions in the Environment\n",
    "Once this cell is executed, you will watch the agents' performance, if they select actions at random with each time step.  A window should pop up that allows you to observe the agents.\n",
    "\n",
    "Of course, as part of the project, you'll have to change the code so that the agents are able to use their experiences to gradually choose better actions when interacting with the environment!"
   ]
  },
  {
   "cell_type": "code",
   "execution_count": null,
   "metadata": {},
   "outputs": [],
   "source": [
    "for i in range(1, 6):                                      # play game for 5 episodes\n",
    "    env_info = env.reset(train_mode=False)[brain_name]     # reset the environment    \n",
    "    states = env_info.vector_observations                  # get the current state (for each agent)\n",
    "    scores = np.zeros(num_agents)                          # initialize the score (for each agent)\n",
    "    while True:\n",
    "        actions = np.random.randn(num_agents, action_size) # select an action (for each agent)\n",
    "        actions = np.clip(actions, -1, 1)                  # all actions between -1 and 1\n",
    "        env_info = env.step(actions)[brain_name]           # send all actions to tne environment\n",
    "        next_states = env_info.vector_observations         # get next state (for each agent)\n",
    "        rewards = env_info.rewards                         # get reward (for each agent)\n",
    "        dones = env_info.local_done                        # see if episode finished\n",
    "        scores += env_info.rewards                         # update the score (for each agent)\n",
    "        states = next_states                               # roll over states to next time step\n",
    "        if np.any(dones):                                  # exit loop if episode finished\n",
    "            break\n",
    "    print('Score (max over agents) from episode {}: {}'.format(i, np.max(scores)))"
   ]
  },
  {
   "cell_type": "markdown",
   "metadata": {},
   "source": [
    "### 5. Take Trained Actions in the Environment\n",
    "Once this cell is executed, you will watch the agents' performance, if they select actions at random with each time step.  A window should pop up that allows you to observe the agents.\n",
    "\n",
    "Of course, as part of the project, you'll have to change the code so that the agents are able to use their experiences to gradually choose better actions when interacting with the environment!"
   ]
  },
  {
   "cell_type": "code",
   "execution_count": 15,
   "metadata": {},
   "outputs": [
    {
     "name": "stdout",
     "output_type": "stream",
     "text": [
      "Max score (One agents) this episodes: 2.600000038743019\n",
      "Total steps num: 1001\n"
     ]
    }
   ],
   "source": [
    "import torch\n",
    "new_agent = Agent(state_size, action_size, num_agents, random_seed=0)\n",
    "actor0 = torch.load('assets/checkpoint_actor_0.pth', map_location='cpu')\n",
    "actor1 = torch.load('assets/checkpoint_actor_1.pth', map_location='cpu')\n",
    "agent.actors_local[0].load_state_dict(actor0)\n",
    "agent.actors_local[1].load_state_dict(actor1)\n",
    "\n",
    "env_info = env.reset(train_mode=False)[brain_name]     # reset the environment    \n",
    "states = env_info.vector_observations                  # get the current state (for each agent)\n",
    "scores = np.zeros(num_agents)                          # initialize the score (for each agent)\n",
    "steps = 0\n",
    "while True:\n",
    "    actions = agent.act(states, False)                 # select an action (for each agent)\n",
    "    # actions = np.clip(actions, -1, 1)                # all actions between -1 and 1\n",
    "    env_info = env.step(actions)[brain_name]           # send all actions to tne environment\n",
    "    next_states = env_info.vector_observations         # get next state (for each agent)\n",
    "    rewards = env_info.rewards                         # get reward (for each agent)\n",
    "    dones = env_info.local_done                        # see if episode finished\n",
    "    scores += env_info.rewards                         # update the score (for each agent)\n",
    "    steps += 1\n",
    "    states = next_states                               # roll over states to next time step\n",
    "    if np.any(dones):                                  # exit loop if episode finished\n",
    "        break\n",
    "print('Max score (One agents) this episodes: {}'.format(np.max(scores)))\n",
    "print('Total steps num: {}'.format(steps))"
   ]
  },
  {
   "cell_type": "markdown",
   "metadata": {},
   "source": [
    "When finished, you can close the environment."
   ]
  },
  {
   "cell_type": "code",
   "execution_count": null,
   "metadata": {},
   "outputs": [],
   "source": [
    "env.close()"
   ]
  }
 ],
 "metadata": {
  "kernelspec": {
   "display_name": "drlnd",
   "language": "python",
   "name": "drlnd"
  },
  "language_info": {
   "codemirror_mode": {
    "name": "ipython",
    "version": 3
   },
   "file_extension": ".py",
   "mimetype": "text/x-python",
   "name": "python",
   "nbconvert_exporter": "python",
   "pygments_lexer": "ipython3",
   "version": "3.6.15"
  }
 },
 "nbformat": 4,
 "nbformat_minor": 2
}
